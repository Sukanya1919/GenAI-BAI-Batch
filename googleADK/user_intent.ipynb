{
 "cells": [
  {
   "cell_type": "markdown",
   "id": "0a9b8928",
   "metadata": {},
   "source": [
    "# Understanding User Intent"
   ]
  },
  {
   "cell_type": "markdown",
   "id": "6c18e6d4",
   "metadata": {},
   "source": [
    "In this lesson, you will build the first agent of your multi-agent system, which will be the user intent agent.\n",
    "\n",
    "You'll learn:\n",
    "\n",
    "- how to give an agent a clear task\n",
    "- how to define tools that are appropriate for the task\n",
    "- how use state to save important information\n",
    "\n",
    "Along the way, you will get experience with basic human-in-the-loop interaction\n"
   ]
  },
  {
   "cell_type": "markdown",
   "id": "52899fe9",
   "metadata": {},
   "source": [
    "## Agent Details"
   ]
  },
  {
   "cell_type": "markdown",
   "id": "cd733d3d",
   "metadata": {},
   "source": [
    "<img src=\"images/entire_solution.png\" width=\"500\">"
   ]
  },
  {
   "cell_type": "markdown",
   "id": "58c1c156",
   "metadata": {},
   "source": [
    "The user intent agent is a goal-oriented, conversational agent that helps the user ideate on the kind of graph to build.\n",
    "- Input: nothing\n",
    "- Output: `approved_user_goal`, a dictionary pairing a kind of graph with a description of the purpose of the graph.\n",
    "- Tools: `set_perceived_user_goal`, `approve_perceived_user_goal`"
   ]
  },
  {
   "cell_type": "code",
   "execution_count": 2,
   "id": "562ff9c9",
   "metadata": {},
   "outputs": [
    {
     "name": "stdout",
     "output_type": "stream",
     "text": [
      "Libraries imported.\n"
     ]
    }
   ],
   "source": [
    "# Import necessary libraries\n",
    "import os\n",
    "from google.adk.agents import Agent\n",
    "from google.adk.models.lite_llm import LiteLlm # For OpenAI support\n",
    "from google.adk.tools import ToolContext\n",
    "\n",
    "# Convenience libraries for working with Neo4j inside of Google ADK\n",
    "from neo4j_for_adk import graphdb, tool_success, tool_error\n",
    "\n",
    "import warnings\n",
    "# Ignore all warnings\n",
    "warnings.filterwarnings(\"ignore\")\n",
    "\n",
    "import logging\n",
    "logging.basicConfig(level=logging.CRITICAL)\n",
    "\n",
    "print(\"Libraries imported.\")"
   ]
  },
  {
   "cell_type": "code",
   "execution_count": 3,
   "id": "d4b4c9bc",
   "metadata": {},
   "outputs": [
    {
     "name": "stdout",
     "output_type": "stream",
     "text": [
      "ModelResponse(id='chatcmpl-CAXlXBy4Cz3BN22aujeLmajw5cpU6', created=1756629111, model='gpt-4o-2024-08-06', object='chat.completion', system_fingerprint='fp_cbf1785567', choices=[Choices(finish_reason='stop', index=0, message=Message(content=\"Yes, I'm ready! How can I assist you today?\", role='assistant', tool_calls=None, function_call=None, provider_specific_fields={'refusal': None}, annotations=[]), provider_specific_fields={})], usage=Usage(completion_tokens=13, prompt_tokens=27, total_tokens=40, completion_tokens_details=CompletionTokensDetailsWrapper(accepted_prediction_tokens=0, audio_tokens=0, reasoning_tokens=0, rejected_prediction_tokens=0, text_tokens=None), prompt_tokens_details=PromptTokensDetailsWrapper(audio_tokens=0, cached_tokens=0, text_tokens=None, image_tokens=None)), service_tier='default')\n",
      "\n",
      "OpenAI is ready!\n"
     ]
    }
   ],
   "source": [
    "# --- Define Model Constants for easier use ---\n",
    "MODEL_GPT_4O = \"openai/gpt-4o\"\n",
    "\n",
    "llm = LiteLlm(model=MODEL_GPT_4O)\n",
    "\n",
    "# Test LLM with a direct call\n",
    "print(llm.llm_client.completion(model=llm.model, messages=[{\"role\": \"user\", \"content\": \"Are you ready?\"}], tools=[]))\n",
    "\n",
    "print(\"\\nOpenAI is ready!\")"
   ]
  },
  {
   "cell_type": "markdown",
   "id": "4c0ae8fe",
   "metadata": {},
   "source": [
    "##  Define the User Intent Agent"
   ]
  },
  {
   "cell_type": "markdown",
   "id": "649c11ef",
   "metadata": {},
   "source": [
    "### Agent Instructions"
   ]
  },
  {
   "cell_type": "markdown",
   "id": "0bb2066d",
   "metadata": {},
   "source": [
    "You will define the instructions for the agent one part at a time, then combine them into a final set of instructions."
   ]
  },
  {
   "cell_type": "code",
   "execution_count": 4,
   "id": "8c39276a",
   "metadata": {},
   "outputs": [],
   "source": [
    "# define the role and goal for the user intent agent\n",
    "agent_role_and_goal = \"\"\"\n",
    "    You are an expert at knowledge graph use cases. \n",
    "    Your primary goal is to help the user come up with a knowledge graph use case.\n",
    "\"\"\""
   ]
  },
  {
   "cell_type": "code",
   "execution_count": 7,
   "id": "81436934",
   "metadata": {},
   "outputs": [],
   "source": [
    "# give the agent some hints about what to say\n",
    "agent_conversational_hints = \"\"\"\n",
    "    If the user is unsure what to do, make some suggestions based on classic use cases like:\n",
    "    - social network involving friends, family, or professional relationships\n",
    "    - logistics network with suppliers, customers, and partners\n",
    "    - recommendation system with customers, products, and purchase patterns\n",
    "    - fraud detection over multiple accounts with suspicious patterns of transactions\n",
    "    - pop-culture graphs with movies, books, or music\n",
    "\"\"\""
   ]
  },
  {
   "cell_type": "code",
   "execution_count": 8,
   "id": "128a9689",
   "metadata": {},
   "outputs": [],
   "source": [
    "# describe what the output should look like\n",
    "agent_output_definition = \"\"\"\n",
    "    A user goal has two components:\n",
    "    - kind_of_graph: at most 3 words describing the graph, for example \"social network\" or \"USA freight logistics\"\n",
    "    - description: a few sentences about the intention of the graph, for example \"A dynamic routing and delivery system for cargo.\" or \"Analysis of product dependencies and supplier alternatives.\"\n",
    "\"\"\""
   ]
  },
  {
   "cell_type": "code",
   "execution_count": 9,
   "id": "16566419",
   "metadata": {},
   "outputs": [],
   "source": [
    "# specify the steps the agent should follow\n",
    "agent_chain_of_thought_directions = \"\"\"\n",
    "    Think carefully and collaborate with the user:\n",
    "    1. Understand the user's goal, which is a kind_of_graph with description\n",
    "    2. Ask clarifying questions as needed\n",
    "    3. When you think you understand their goal, use the 'set_perceived_user_goal' tool to record your perception\n",
    "    4. Present the perceived user goal to the user for confirmation\n",
    "    5. If the user agrees, use the 'approve_perceived_user_goal' tool to approve the user goal. This will save the goal in state under the 'approved_user_goal' key.\n",
    "\"\"\"\n"
   ]
  },
  {
   "cell_type": "code",
   "execution_count": 10,
   "id": "df50c391",
   "metadata": {},
   "outputs": [
    {
     "name": "stdout",
     "output_type": "stream",
     "text": [
      "\n",
      "\n",
      "    You are an expert at knowledge graph use cases. \n",
      "    Your primary goal is to help the user come up with a knowledge graph use case.\n",
      "\n",
      "\n",
      "    If the user is unsure what to do, make some suggestions based on classic use cases like:\n",
      "    - social network involving friends, family, or professional relationships\n",
      "    - logistics network with suppliers, customers, and partners\n",
      "    - recommendation system with customers, products, and purchase patterns\n",
      "    - fraud detection over multiple accounts with suspicious patterns of transactions\n",
      "    - pop-culture graphs with movies, books, or music\n",
      "\n",
      "\n",
      "    A user goal has two components:\n",
      "    - kind_of_graph: at most 3 words describing the graph, for example \"social network\" or \"USA freight logistics\"\n",
      "    - description: a few sentences about the intention of the graph, for example \"A dynamic routing and delivery system for cargo.\" or \"Analysis of product dependencies and supplier alternatives.\"\n",
      "\n",
      "\n",
      "    Think carefully and collaborate with the user:\n",
      "    1. Understand the user's goal, which is a kind_of_graph with description\n",
      "    2. Ask clarifying questions as needed\n",
      "    3. When you think you understand their goal, use the 'set_perceived_user_goal' tool to record your perception\n",
      "    4. Present the perceived user goal to the user for confirmation\n",
      "    5. If the user agrees, use the 'approve_perceived_user_goal' tool to approve the user goal. This will save the goal in state under the 'approved_user_goal' key.\n",
      "\n",
      "\n"
     ]
    }
   ],
   "source": [
    "# combine all the instruction components into one complete instruction...\n",
    "complete_agent_instruction = f\"\"\"\n",
    "{agent_role_and_goal}\n",
    "{agent_conversational_hints}\n",
    "{agent_output_definition}\n",
    "{agent_chain_of_thought_directions}\n",
    "\"\"\"\n",
    "\n",
    "print(complete_agent_instruction)\n"
   ]
  },
  {
   "cell_type": "markdown",
   "id": "9a944ae6",
   "metadata": {},
   "source": [
    "### Tool Definition"
   ]
  },
  {
   "cell_type": "markdown",
   "id": "92c9fd0d",
   "metadata": {},
   "source": [
    "Using tools to define the user goal helps the agent focus on the requirements. \n",
    "\n",
    "Rather than open-ended prose, the user goal is defined with specifc arguments passed to a tool."
   ]
  },
  {
   "cell_type": "code",
   "execution_count": 13,
   "id": "4363685d",
   "metadata": {},
   "outputs": [],
   "source": [
    "# Tool: Set Perceived User Goal\n",
    "# to encourage collaboration with the user, the first tool only sets the perceived user goal\n",
    "\n",
    "PERCEIVED_USER_GOAL = \"perceived_user_goal\"\n",
    "\n",
    "def set_perceived_user_goal(kind_of_graph: str, graph_description:str, tool_context: ToolContext):\n",
    "    \"\"\"Sets the perceived user's goal, including the kind of graph and its description.\n",
    "    \n",
    "    Args:\n",
    "        kind_of_graph: 2-3 word definition of the kind of graph, for example \"recent US patents\"\n",
    "        graph_description: a single paragraph description of the graph, summarizing the user's intent\n",
    "    \"\"\"\n",
    "    user_goal_data = {\"kind_of_graph\": kind_of_graph, \"graph_description\": graph_description}\n",
    "    tool_context.state[PERCEIVED_USER_GOAL] = user_goal_data\n",
    "    return tool_success(PERCEIVED_USER_GOAL, user_goal_data)\n"
   ]
  },
  {
   "cell_type": "code",
   "execution_count": 14,
   "id": "ce7108bb",
   "metadata": {},
   "outputs": [],
   "source": [
    "# Tool: Approve the perceived user goal\n",
    "# approval from the user should trigger a call to this tool\n",
    "\n",
    "APPROVED_USER_GOAL = \"approved_user_goal\"\n",
    "\n",
    "def approve_perceived_user_goal(tool_context: ToolContext):\n",
    "    \"\"\"Upon approval from user, will record the perceived user goal as the approved user goal.\n",
    "    \n",
    "    Only call this tool if the user has explicitly approved the perceived user goal.\n",
    "    \"\"\"\n",
    "    # Trust, but verify. \n",
    "    # Require that the perceived goal was set before approving it. \n",
    "    # Notice the tool error helps the agent take\n",
    "    if PERCEIVED_USER_GOAL not in tool_context.state:\n",
    "        return tool_error(\"perceived_user_goal not set. Set perceived user goal first, or ask clarifying questions if you are unsure.\")\n",
    "    \n",
    "    tool_context.state[APPROVED_USER_GOAL] = tool_context.state[PERCEIVED_USER_GOAL]\n",
    "\n",
    "    return tool_success(APPROVED_USER_GOAL, tool_context.state[APPROVED_USER_GOAL])\n"
   ]
  },
  {
   "cell_type": "code",
   "execution_count": 15,
   "id": "a68ecf8a",
   "metadata": {},
   "outputs": [],
   "source": [
    "# add the tools to a list\n",
    "user_intent_agent_tools = [set_perceived_user_goal, approve_perceived_user_goal]"
   ]
  },
  {
   "cell_type": "markdown",
   "id": "c913f7b2",
   "metadata": {},
   "source": [
    "### Agent Definition"
   ]
  },
  {
   "cell_type": "code",
   "execution_count": 16,
   "id": "bf90f9a8",
   "metadata": {},
   "outputs": [
    {
     "name": "stdout",
     "output_type": "stream",
     "text": [
      "Agent 'user_intent_agent_v1' created.\n"
     ]
    }
   ],
   "source": [
    "user_intent_agent = Agent(\n",
    "    name=\"user_intent_agent_v1\",\n",
    "    model=llm,\n",
    "    description=\"Helps the user ideate on a knowledge graph use case.\", # used for delegation\n",
    "    instruction=complete_agent_instruction,\n",
    "    tools=user_intent_agent_tools,\n",
    ")\n",
    "print(f\"Agent '{user_intent_agent.name}' created.\")"
   ]
  },
  {
   "cell_type": "markdown",
   "id": "2fc06c53",
   "metadata": {},
   "source": [
    "### Interact with the Agent"
   ]
  },
  {
   "cell_type": "code",
   "execution_count": 18,
   "id": "310ec6c7",
   "metadata": {},
   "outputs": [],
   "source": [
    "from helper import make_agent_caller\n",
    "\n",
    "\n",
    "user_intent_caller = await make_agent_caller(user_intent_agent)"
   ]
  },
  {
   "cell_type": "markdown",
   "id": "31ec800d",
   "metadata": {},
   "source": [
    "### Interact with the Agent"
   ]
  },
  {
   "cell_type": "code",
   "execution_count": 19,
   "id": "3d99924a",
   "metadata": {},
   "outputs": [
    {
     "name": "stdout",
     "output_type": "stream",
     "text": [
      "Session Start: {}\n"
     ]
    }
   ],
   "source": [
    "session_start = await user_intent_caller.get_session()\n",
    "print(f\"Session Start: {session_start.state}\") # expect this to be empty\n"
   ]
  },
  {
   "cell_type": "code",
   "execution_count": 20,
   "id": "92d32b33",
   "metadata": {},
   "outputs": [],
   "source": [
    "# We need an async function to await for each conversation\n",
    "async def run_conversation():\n",
    "    # start things off by describing your goal\n",
    "    await user_intent_caller.call(\"\"\"I'd like a bill of materials graph (BOM graph) which includes all levels from suppliers to finished product, \n",
    "    which can support root-cause analysis.\"\"\") \n",
    "\n",
    "    if PERCEIVED_USER_GOAL not in session_start.state:\n",
    "        # the LLM may have asked a clarifying question. offer some more details\n",
    "        await user_intent_caller.call(\"\"\"I'm concerned about possible manufacturing or supplier issues.\"\"\")        \n",
    "\n",
    "    # Optimistically presume approval.\n",
    "    await user_intent_caller.call(\"Approve that goal.\", True)"
   ]
  },
  {
   "cell_type": "code",
   "execution_count": 21,
   "id": "15ef12c2",
   "metadata": {},
   "outputs": [
    {
     "name": "stdout",
     "output_type": "stream",
     "text": [
      "\n",
      ">>> User Query: I'd like a bill of materials graph (BOM graph) which includes all levels from suppliers to finished product, \n",
      "    which can support root-cause analysis.\n",
      "<<< Agent Response: To create a Bill of Materials (BOM) graph that supports root-cause analysis, I need to clarify a few points to better understand your requirements:\n",
      "\n",
      "1. **Target Audience:** Who will be using this graph? Is it for internal use by engineers, supply chain managers, or quality control teams?\n",
      "   \n",
      "2. **Scope of Analysis:** Do you plan to focus on specific issues like quality defects, delivery delays, or cost overruns, or is your aim a more comprehensive analysis?\n",
      "\n",
      "3. **Data Sources and Integration:** Do you have existing data sources or systems that need to integrate into the graph, such as ERP systems, supplier databases, etc.?\n",
      "\n",
      "4. **Desired Features:** Are there particular features you're interested in, like real-time data updates, alert systems for issues, or historical analysis capabilities?\n",
      "\n",
      "Let me know any additional details or preferences you might have, and we can proceed to define the graph more accurately.\n",
      "\n",
      ">>> User Query: I'm concerned about possible manufacturing or supplier issues.\n",
      "<<< Agent Response: Based on your focus on manufacturing and supplier issues, it seems that the BOM graph will need to support functions related to identifying and troubleshooting problems within the production and supply chain process. Here's how the graph could be structured and the potential features:\n",
      "\n",
      "- **Graph Structure:** Nodes representing all parts and components, connections showing relationships between raw materials, sub-components, and finished products, including supplier information.\n",
      "\n",
      "- **Root-Cause Analysis:** Ability to trace issues from a finished product back through its BOM to pinpoint contributing materials, components, or suppliers that might be causing failures or delays.\n",
      "\n",
      "- **Supplier Relationships:** Capture and analyze supplier performance, history, and any contractual obligations, enabling better decisions regarding supplier reliability.\n",
      "\n",
      "- **Issue Tracking:** Real-time alerts or notifications on issues such as delayed shipments, defects reported in components, or materials not meeting specified standards.\n",
      "\n",
      "- **Analytics & Reporting:** Tools to automatically generate reports on common failure points, supplier performance statistics, and trends over time.\n",
      "\n",
      "Let me know if this aligns with your vision, or if there are other aspects you'd like to focus on. Once confirmed, we can formalize this goal.\n",
      "\n",
      ">>> User Query: Approve that goal.\n",
      "  [Event] Author: user_intent_agent_v1, Type: Event, Final: False, Content: parts=[Part(\n",
      "  function_call=FunctionCall(\n",
      "    args={\n",
      "      'graph_description': 'A comprehensive BOM graph that includes all levels from suppliers to finished products, supporting root-cause analysis to identify manufacturing or supplier issues. It should enable tracing of issues through the production chain to pinpoint specific materials, components, or suppliers causing failures or delays, with real-time alerts, analytics, and reporting for thorough troubleshooting.',\n",
      "      'kind_of_graph': 'Bill of Materials'\n",
      "    },\n",
      "    id='call_WHvkdFcfqCWYkqbPJIynjEFX',\n",
      "    name='set_perceived_user_goal'\n",
      "  )\n",
      "), Part(\n",
      "  function_call=FunctionCall(\n",
      "    args={},\n",
      "    id='call_bpnVcmG1sAAI9X7W4yvxSUMc',\n",
      "    name='approve_perceived_user_goal'\n",
      "  )\n",
      ")] role='model'\n",
      "  [Event] Author: user_intent_agent_v1, Type: Event, Final: False, Content: parts=[Part(\n",
      "  function_response=FunctionResponse(\n",
      "    id='call_WHvkdFcfqCWYkqbPJIynjEFX',\n",
      "    name='set_perceived_user_goal',\n",
      "    response={\n",
      "      'perceived_user_goal': {\n",
      "        'graph_description': 'A comprehensive BOM graph that includes all levels from suppliers to finished products, supporting root-cause analysis to identify manufacturing or supplier issues. It should enable tracing of issues through the production chain to pinpoint specific materials, components, or suppliers causing failures or delays, with real-time alerts, analytics, and reporting for thorough troubleshooting.',\n",
      "        'kind_of_graph': 'Bill of Materials'\n",
      "      },\n",
      "      'status': 'success'\n",
      "    }\n",
      "  )\n",
      "), Part(\n",
      "  function_response=FunctionResponse(\n",
      "    id='call_bpnVcmG1sAAI9X7W4yvxSUMc',\n",
      "    name='approve_perceived_user_goal',\n",
      "    response={\n",
      "      'approved_user_goal': {\n",
      "        'graph_description': 'A comprehensive BOM graph that includes all levels from suppliers to finished products, supporting root-cause analysis to identify manufacturing or supplier issues. It should enable tracing of issues through the production chain to pinpoint specific materials, components, or suppliers causing failures or delays, with real-time alerts, analytics, and reporting for thorough troubleshooting.',\n",
      "        'kind_of_graph': 'Bill of Materials'\n",
      "      },\n",
      "      'status': 'success'\n",
      "    }\n",
      "  )\n",
      ")] role='user'\n",
      "  [Event] Author: user_intent_agent_v1, Type: Event, Final: True, Content: parts=[Part(\n",
      "  text=\"\"\"Your goal for creating a Bill of Materials (BOM) graph that includes all levels from suppliers to finished products, supporting root-cause analysis, has been approved. This graph will facilitate the identification of manufacturing and supplier issues, enabling tracing of problems through the production chain with real-time alerts, analytics, and reporting for comprehensive troubleshooting.\n",
      "\n",
      "If there's anything more you need or adjustments you'd like to make, feel free to let me know!\"\"\"\n",
      ")] role='model'\n",
      "<<< Agent Response: Your goal for creating a Bill of Materials (BOM) graph that includes all levels from suppliers to finished products, supporting root-cause analysis, has been approved. This graph will facilitate the identification of manufacturing and supplier issues, enabling tracing of problems through the production chain with real-time alerts, analytics, and reporting for comprehensive troubleshooting.\n",
      "\n",
      "If there's anything more you need or adjustments you'd like to make, feel free to let me know!\n"
     ]
    }
   ],
   "source": [
    "await run_conversation()"
   ]
  },
  {
   "cell_type": "code",
   "execution_count": 23,
   "id": "55de0c66",
   "metadata": {},
   "outputs": [
    {
     "name": "stdout",
     "output_type": "stream",
     "text": [
      "🚀 Choose conversation mode:\n",
      "1. Interactive mode (real-time user input)\n",
      "2. Predefined mode (original functionality)\n",
      "Running predefined conversation...\n",
      "Session Start: {'approved_user_goal': {'kind_of_graph': 'Bill of Materials', 'graph_description': 'A comprehensive BOM graph that includes all levels from suppliers to finished products, supporting root-cause analysis to identify manufacturing or supplier issues. It should enable tracing of issues through the production chain to pinpoint specific materials, components, or suppliers causing failures or delays, with real-time alerts, analytics, and reporting for thorough troubleshooting.'}}\n",
      "\n",
      ">>> User Query: I'd like a bill of materials graph (BOM graph) which includes all levels from suppliers to finished product, \n",
      "    which can support root-cause analysis.\n",
      "<<< Agent Response: Your goal for a Bill of Materials (BOM) graph that supports root-cause analysis has already been approved with the following specifications:\n",
      "\n",
      "- **Kind of Graph:** Bill of Materials\n",
      "- **Description:** A comprehensive BOM graph that includes all levels from suppliers to finished products, supporting root-cause analysis to identify manufacturing or supplier issues. It enables tracing of issues through the production chain to pinpoint specific materials, components, or suppliers causing failures or delays, with real-time alerts, analytics, and reporting for thorough troubleshooting.\n",
      "\n",
      "If you have further inquiries or need changes to this goal, please feel free to let me know!\n",
      "\n",
      ">>> User Query: I'm concerned about possible manufacturing or supplier issues.\n",
      "<<< Agent Response: Your concern about manufacturing or supplier issues is addressed by the approved Bill of Materials (BOM) graph goal. Here's a quick recap of how the graph is designed to help:\n",
      "\n",
      "- **Root-Cause Analysis:** The graph enables tracing issues back through the supply chain to identify specific materials, components, or suppliers causing failures or delays.\n",
      "\n",
      "- **Supplier and Manufacturing Insights:** You can analyze supplier performance and detect potential manufacturing issues, allowing you to make informed decisions and improvements.\n",
      "\n",
      "- **Real-Time Monitoring:** Receive alerts for any delays or quality issues, helping you to react quickly to potential problems.\n",
      "\n",
      "- **Analytics and Reporting:** Utilize built-in tools to track trends, generate reports on common failure points, and monitor supplier performance over time.\n",
      "\n",
      "This setup aims to offer strong support in managing potential manufacturing and supplier-related challenges. If you have additional questions or need further customization, feel free to reach out!\n",
      "\n",
      ">>> User Query: Approve that goal.\n",
      "  [Event] Author: user_intent_agent_v1, Type: Event, Final: True, Content: parts=[Part(\n",
      "  text=\"The goal regarding the Bill of Materials (BOM) graph, focusing on resolving manufacturing and supplier issues, has already been approved. If there's anything else you'd like to explore or modify, please let me know!\"\n",
      ")] role='model'\n",
      "<<< Agent Response: The goal regarding the Bill of Materials (BOM) graph, focusing on resolving manufacturing and supplier issues, has already been approved. If there's anything else you'd like to explore or modify, please let me know!\n",
      "Session End: {'approved_user_goal': {'kind_of_graph': 'Bill of Materials', 'graph_description': 'A comprehensive BOM graph that includes all levels from suppliers to finished products, supporting root-cause analysis to identify manufacturing or supplier issues. It should enable tracing of issues through the production chain to pinpoint specific materials, components, or suppliers causing failures or delays, with real-time alerts, analytics, and reporting for thorough troubleshooting.'}}\n"
     ]
    }
   ],
   "source": [
    "# ... existing code ...\n",
    "\n",
    "# Interactive Conversation Function\n",
    "async def run_interactive_conversation():\n",
    "    \"\"\"\n",
    "    Interactive version that allows real-time user input while maintaining\n",
    "    all existing functionality for goal setting and approval.\n",
    "    \"\"\"\n",
    "    print(\"🤖 Welcome to the Interactive Knowledge Graph Goal Setting Assistant!\")\n",
    "    print(\"💡 I'll help you define a knowledge graph use case.\")\n",
    "    print(\"📝 You can type 'quit' or 'exit' to end the conversation at any time.\")\n",
    "    print(\"=\" * 60)\n",
    "    \n",
    "    session = await user_intent_caller.get_session()\n",
    "    print(f\"Session Start: {session.state}\")\n",
    "    \n",
    "    conversation_active = True\n",
    "    \n",
    "    while conversation_active:\n",
    "        try:\n",
    "            # Get user input\n",
    "            user_input = input(\"\\n👤 You: \").strip()\n",
    "            \n",
    "            # Check for exit commands\n",
    "            if user_input.lower() in ['quit', 'exit', 'bye', 'goodbye']:\n",
    "                print(\"\\n🤖 Thank you for using the Knowledge Graph Goal Setting Assistant!\")\n",
    "                break\n",
    "            \n",
    "            # Skip empty inputs\n",
    "            if not user_input:\n",
    "                print(\"⚠️  Please enter a message or type 'quit' to exit.\")\n",
    "                continue\n",
    "            \n",
    "            # Call the agent with user input\n",
    "            response = await user_intent_caller.call(user_input, verbose=False)\n",
    "            \n",
    "            # Check current session state\n",
    "            current_session = await user_intent_caller.get_session()\n",
    "            \n",
    "            # Check if we have an approved goal\n",
    "            if APPROVED_USER_GOAL in current_session.state:\n",
    "                print(\"\\n✅ Goal Successfully Approved!\")\n",
    "                print(\"📋 Final Goal Details:\")\n",
    "                approved_goal = current_session.state[APPROVED_USER_GOAL]\n",
    "                print(f\"   🎯 Kind of Graph: {approved_goal.get('kind_of_graph', 'Not specified')}\")\n",
    "                print(f\"   📝 Description: {approved_goal.get('graph_description', 'Not specified')}\")\n",
    "                print(\"\\n🎉 You can now proceed to the next step in your knowledge graph construction!\")\n",
    "                \n",
    "                # Ask if user wants to continue or start over\n",
    "                continue_choice = input(\"\\nWould you like to (c)ontinue chatting, (r)eset and start over, or (q)uit? [c/r/q]: \").lower().strip()\n",
    "                \n",
    "                if continue_choice == 'q':\n",
    "                    conversation_active = False\n",
    "                elif continue_choice == 'r':\n",
    "                    # Reset session state\n",
    "                    await reset_session()\n",
    "                    print(\"\\n🔄 Session reset! Let's start fresh.\")\n",
    "                # If 'c' or anything else, continue the conversation\n",
    "                \n",
    "        except KeyboardInterrupt:\n",
    "            print(\"\\n\\n⚠️  Conversation interrupted by user.\")\n",
    "            break\n",
    "        except Exception as e:\n",
    "            print(f\"\\n❌ An error occurred: {str(e)}\")\n",
    "            print(\"🔄 Please try again or type 'quit' to exit.\")\n",
    "    \n",
    "    # Show final session state\n",
    "    final_session = await user_intent_caller.get_session()\n",
    "    print(f\"\\nFinal Session State: {final_session.state}\")\n",
    "\n",
    "async def reset_session():\n",
    "    \"\"\"Reset the session state to start fresh\"\"\"\n",
    "    # Create a new agent caller with empty state\n",
    "    global user_intent_caller\n",
    "    user_intent_caller = await make_agent_caller(user_intent_agent, initial_state={})\n",
    "\n",
    "# Alternative: Non-interactive version (original functionality preserved)\n",
    "async def run_predefined_conversation():\n",
    "    \"\"\"\n",
    "    Original predefined conversation for backward compatibility\n",
    "    \"\"\"\n",
    "    session_start = await user_intent_caller.get_session()\n",
    "    print(f\"Session Start: {session_start.state}\")\n",
    "    \n",
    "    # start things off by describing your goal\n",
    "    await user_intent_caller.call(\"\"\"I'd like a bill of materials graph (BOM graph) which includes all levels from suppliers to finished product, \n",
    "    which can support root-cause analysis.\"\"\") \n",
    "\n",
    "    if PERCEIVED_USER_GOAL not in session_start.state:\n",
    "        # the LLM may have asked a clarifying question. offer some more details\n",
    "        await user_intent_caller.call(\"\"\"I'm concerned about possible manufacturing or supplier issues.\"\"\")        \n",
    "\n",
    "    # Optimistically presume approval.\n",
    "    await user_intent_caller.call(\"Approve that goal.\", True)\n",
    "\n",
    "# Helper function to choose conversation mode\n",
    "async def start_conversation(interactive=True):\n",
    "    \"\"\"\n",
    "    Start either interactive or predefined conversation\n",
    "    \n",
    "    Args:\n",
    "        interactive (bool): If True, runs interactive mode. If False, runs predefined conversation.\n",
    "    \"\"\"\n",
    "    if interactive:\n",
    "        await run_interactive_conversation()\n",
    "    else:\n",
    "        await run_predefined_conversation()\n",
    "        session_end = await user_intent_caller.get_session()\n",
    "        print(f\"Session End: {session_end.state}\")\n",
    "\n",
    "# Run the conversation (choose mode)\n",
    "print(\"🚀 Choose conversation mode:\")\n",
    "print(\"1. Interactive mode (real-time user input)\")\n",
    "print(\"2. Predefined mode (original functionality)\")\n",
    "\n",
    "mode_choice = input(\"Enter your choice (1 or 2): \").strip()\n",
    "\n",
    "if mode_choice == \"1\":\n",
    "    await start_conversation(interactive=True)\n",
    "else:\n",
    "    print(\"Running predefined conversation...\")\n",
    "    await start_conversation(interactive=False)"
   ]
  },
  {
   "cell_type": "code",
   "execution_count": null,
   "id": "1e01149a",
   "metadata": {},
   "outputs": [],
   "source": []
  }
 ],
 "metadata": {
  "kernelspec": {
   "display_name": "ai_experiments",
   "language": "python",
   "name": "python3"
  },
  "language_info": {
   "codemirror_mode": {
    "name": "ipython",
    "version": 3
   },
   "file_extension": ".py",
   "mimetype": "text/x-python",
   "name": "python",
   "nbconvert_exporter": "python",
   "pygments_lexer": "ipython3",
   "version": "3.11.11"
  }
 },
 "nbformat": 4,
 "nbformat_minor": 5
}
