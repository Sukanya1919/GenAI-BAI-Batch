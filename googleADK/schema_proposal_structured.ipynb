{
 "cells": [
  {
   "cell_type": "markdown",
   "id": "91e5aef7",
   "metadata": {},
   "source": [
    "#  Schema Proposal for Structured Data\n",
    "\n",
    "In this lesson, you will build an agent that can propose a knowledge graph schema.\n",
    "The agent will analyze the approved import files and consider how to satisfy the approved user goal.\n",
    "\n",
    "You'll learn:\n",
    "- how to pair agents into a \"critic pattern\"\n",
    "- how to use tools to focus an agent's thinking"
   ]
  },
  {
   "cell_type": "markdown",
   "id": "eb206255",
   "metadata": {},
   "source": [
    "###  Agent"
   ]
  },
  {
   "cell_type": "markdown",
   "id": "98ab2498",
   "metadata": {},
   "source": [
    "\n",
    "<img src=\"/Users/rajesh/Desktop/rajesh/Archive/teaching/agentic_ai/BMGR-MAY2025-GIAI-2/multiagent_with_graph_datastructure/googleADK/images/entire_solution.png\" width=\"500\">\n",
    "\n",
    "Multiple agents will collaborate to propose construction rules for a knowledge graph\n",
    "\n",
    "- Input: `approved_user_goal`, `approved_files`\n",
    "- Output: `approved_construction_plan`\n",
    "- Tools: `get_approved_user_goal`, `get_approved_files`, `sample_file`, \n",
    "        `propose_node_construction`, `propose_relationship_construction`, \n",
    "        `get_proposed_construction_plan`,`approve_proposed_construction_plan`\n",
    "\n",
    "\n",
    "**Workflow**\n",
    "\n",
    "\n",
    "**Workflow**\n",
    "\n",
    "\n",
    "This workflow will use multiple agents to propose a construction plan for the knowledge graph.\n",
    "\n",
    "A top-level 'schema_refinement_loop' will coordinate three agents operating in a loop:\n",
    "1. A 'schema_proposal_agent' that proposes a schema and construction plan for the knowledge graph.\n",
    "2. A 'schema_critic_agent' that critiques the proposed schema and construction plan for the knowledge graph.\n",
    "3. A 'CheckStatusAndEscalate' agent that checks the feedback of the critic agent"
   ]
  },
  {
   "cell_type": "markdown",
   "id": "5a6ad630",
   "metadata": {},
   "source": [
    "### Setup\n"
   ]
  },
  {
   "cell_type": "code",
   "execution_count": 37,
   "id": "807e3122",
   "metadata": {},
   "outputs": [
    {
     "name": "stdout",
     "output_type": "stream",
     "text": [
      "Libraries imported.\n"
     ]
    }
   ],
   "source": [
    "# Import necessary libraries\n",
    "import os\n",
    "from pathlib import Path\n",
    "\n",
    "from google.adk.agents import LlmAgent, LoopAgent\n",
    "from google.adk.models.lite_llm import LiteLlm # For OpenAI support\n",
    "from google.adk.tools import ToolContext\n",
    "\n",
    "# For type hints\n",
    "from typing import Dict, Any, List\n",
    "\n",
    "# Convenience libraries for working with Neo4j inside of Google ADK\n",
    "from neo4j_for_adk import graphdb, tool_success, tool_error\n",
    "\n",
    "import warnings\n",
    "# Ignore all warnings\n",
    "warnings.filterwarnings(\"ignore\")\n",
    "\n",
    "import logging\n",
    "logging.basicConfig(level=logging.CRITICAL)\n",
    "\n",
    "print(\"Libraries imported.\")"
   ]
  },
  {
   "cell_type": "code",
   "execution_count": 38,
   "id": "0202c8d5",
   "metadata": {},
   "outputs": [
    {
     "name": "stdout",
     "output_type": "stream",
     "text": [
      "ModelResponse(id='chatcmpl-CD3pQETNKJdHU3LSObk649QzmEQQE', created=1757229016, model='gpt-4o-2024-08-06', object='chat.completion', system_fingerprint='fp_cbf1785567', choices=[Choices(finish_reason='stop', index=0, message=Message(content=\"Yes, I'm ready. How can I assist you today?\", role='assistant', tool_calls=None, function_call=None, provider_specific_fields={'refusal': None}, annotations=[]), provider_specific_fields={})], usage=Usage(completion_tokens=13, prompt_tokens=27, total_tokens=40, completion_tokens_details=CompletionTokensDetailsWrapper(accepted_prediction_tokens=0, audio_tokens=0, reasoning_tokens=0, rejected_prediction_tokens=0, text_tokens=None), prompt_tokens_details=PromptTokensDetailsWrapper(audio_tokens=0, cached_tokens=0, text_tokens=None, image_tokens=None)), service_tier='default')\n",
      "\n",
      "OpenAI ready.\n"
     ]
    }
   ],
   "source": [
    "# --- Define Model Constants for easier use ---\n",
    "MODEL_GPT_4O = \"openai/gpt-4o\"\n",
    "\n",
    "llm = LiteLlm(model=MODEL_GPT_4O)\n",
    "\n",
    "# Test LLM with a direct call\n",
    "print(llm.llm_client.completion(model=llm.model, messages=[{\"role\": \"user\", \"content\": \"Are you ready?\"}], tools=[]))\n",
    "\n",
    "print(\"\\nOpenAI ready.\")"
   ]
  },
  {
   "cell_type": "markdown",
   "id": "8124f309",
   "metadata": {},
   "source": [
    "### Agent Instructions for Schema Proposal"
   ]
  },
  {
   "cell_type": "code",
   "execution_count": 3,
   "id": "3aeb5168",
   "metadata": {},
   "outputs": [],
   "source": [
    "# Notice the use of {feedback} in the string.\n",
    "# Google ADK will replace this from session context if it exists.\n",
    "# Because feedback could be long, XML-like delimiters are included to clarify the content.\n",
    "proposal_agent_role_and_goal = \"\"\"\n",
    "    You are an expert at knowledge graph modeling with property graphs. Propose an appropriate\n",
    "    schema by specifying construction rules which transform approved files into nodes or relationships.\n",
    "    The resulting schema should describe a knowledge graph based on the user goal.\n",
    "\n",
    "    Consider feedback if it is available: \n",
    "    <feedback>\n",
    "    {feedback}\n",
    "    </feedback> \n",
    "\n",
    "\n",
    "\n",
    "\"\"\""
   ]
  },
  {
   "cell_type": "code",
   "execution_count": null,
   "id": "e508d0da",
   "metadata": {},
   "outputs": [],
   "source": []
  },
  {
   "cell_type": "code",
   "execution_count": 4,
   "id": "c4ffd234",
   "metadata": {},
   "outputs": [],
   "source": [
    "proposal_agent_hints = \"\"\"\n",
    "    Every file in the approved files list will become either a node or a relationship.\n",
    "    Determining whether a file likely represents a node or a relationship is based\n",
    "    on a hint from the filename (is it a single thing or two things) and the\n",
    "    identifiers found within the file.\n",
    "\n",
    "    Because unique identifiers are so important for determining the structure of the graph,\n",
    "    always verify the uniqueness of suspected unique identifiers using the 'search_file' tool.\n",
    "\n",
    "    General guidance for identifying a node or a relationship:\n",
    "    - If the file name is singular and has only 1 unique identifier it is likely a node\n",
    "    - If the file name is a combination of two things, it is likely a full relationship\n",
    "    - If the file name sounds like a node, but there are multiple unique identifiers, that is likely a node with reference relationships\n",
    "\n",
    "    Design rules for nodes:\n",
    "    - Nodes will have unique identifiers. \n",
    "    - Nodes _may_ have identifiers that are used as reference relationships.\n",
    "\n",
    "    Design rules for relationships:\n",
    "    - Relationships appear in two ways: full relationships and reference relationships.\n",
    "\n",
    "    Full relationships:\n",
    "    - Full relationships appear in dedicated relationship files, often having a filename that references two entities\n",
    "    - Full relationships typically have references to a source and destination node.\n",
    "    - Full relationships _do not have_ unique identifiers, but instead have references to the primary keys of the source and destination nodes.\n",
    "    - The absence of a single, unique identifier is a strong indicator that a file is a full relationship.\n",
    "    \n",
    "    Reference relationships:\n",
    "    - Reference relationships appear as foreign key references in node files\n",
    "    - Reference relationship foreign key column names often hint at the destination node and relationship type\n",
    "    - References may be hierarchical container relationships, with terminology revealing parent-child, \"has\", \"contains\", membership, or similar relationship\n",
    "    - References may be peer relationships, that is often a self-reference to a similar class of nodes. For example, \"knows\" or \"see also\"\n",
    "\n",
    "    The resulting schema should be a connected graph, with no isolated components.\n",
    "\"\"\""
   ]
  },
  {
   "cell_type": "code",
   "execution_count": 5,
   "id": "3eafacc4",
   "metadata": {},
   "outputs": [],
   "source": [
    "proposal_agent_chain_of_thought_directions = \"\"\"\n",
    "    Prepare for the task:\n",
    "    - get the user goal using the 'get_approved_user_goal' tool\n",
    "    - get the list of approved files using the 'get_approved_files' tool\n",
    "    - get the current construction plan using the 'get_proposed_construction_plan' tool\n",
    "\n",
    "    Think carefully, using tools to perform actions and reconsidering your actions when a tool returns an error:\n",
    "    1. For each approved file, consider whether it represents a node or relationship. Check the content for potential unique identifiers using the 'sample_file' tool.\n",
    "    2. For each identifier, verify that it is unique by using the 'search_file' tool.\n",
    "    3. Use the node vs relationship guidance for deciding whether the file represents a node or a relationship.\n",
    "    4. For a node file, propose a node construction using the 'propose_node_construction' tool. \n",
    "    5. If the node contains a reference relationship, use the 'propose_relationship_construction' tool to propose a relationship construction. \n",
    "    6. For a relationship file, propose a relationship construction using the 'propose_relationship_construction' tool\n",
    "    7. If you need to remove a construction, use the 'remove_node_construction' or 'remove_relationship_construction' tool\n",
    "    8. When you are done with construction proposals, use the 'get_proposed_construction_plan' tool to present the plan to the user\n",
    "\"\"\""
   ]
  },
  {
   "cell_type": "code",
   "execution_count": 6,
   "id": "639a9964",
   "metadata": {},
   "outputs": [
    {
     "name": "stdout",
     "output_type": "stream",
     "text": [
      "\n",
      "\n",
      "    You are an expert at knowledge graph modeling with property graphs. Propose an appropriate\n",
      "    schema by specifying construction rules which transform approved files into nodes or relationships.\n",
      "    The resulting schema should describe a knowledge graph based on the user goal.\n",
      "\n",
      "    Consider feedback if it is available: \n",
      "    <feedback>\n",
      "    {feedback}\n",
      "    </feedback> \n",
      "\n",
      "\n",
      "\n",
      "\n",
      "\n",
      "    Every file in the approved files list will become either a node or a relationship.\n",
      "    Determining whether a file likely represents a node or a relationship is based\n",
      "    on a hint from the filename (is it a single thing or two things) and the\n",
      "    identifiers found within the file.\n",
      "\n",
      "    Because unique identifiers are so important for determining the structure of the graph,\n",
      "    always verify the uniqueness of suspected unique identifiers using the 'search_file' tool.\n",
      "\n",
      "    General guidance for identifying a node or a relationship:\n",
      "    - If the file name is singular and has only 1 unique identifier it is likely a node\n",
      "    - If the file name is a combination of two things, it is likely a full relationship\n",
      "    - If the file name sounds like a node, but there are multiple unique identifiers, that is likely a node with reference relationships\n",
      "\n",
      "    Design rules for nodes:\n",
      "    - Nodes will have unique identifiers. \n",
      "    - Nodes _may_ have identifiers that are used as reference relationships.\n",
      "\n",
      "    Design rules for relationships:\n",
      "    - Relationships appear in two ways: full relationships and reference relationships.\n",
      "\n",
      "    Full relationships:\n",
      "    - Full relationships appear in dedicated relationship files, often having a filename that references two entities\n",
      "    - Full relationships typically have references to a source and destination node.\n",
      "    - Full relationships _do not have_ unique identifiers, but instead have references to the primary keys of the source and destination nodes.\n",
      "    - The absence of a single, unique identifier is a strong indicator that a file is a full relationship.\n",
      "\n",
      "    Reference relationships:\n",
      "    - Reference relationships appear as foreign key references in node files\n",
      "    - Reference relationship foreign key column names often hint at the destination node and relationship type\n",
      "    - References may be hierarchical container relationships, with terminology revealing parent-child, \"has\", \"contains\", membership, or similar relationship\n",
      "    - References may be peer relationships, that is often a self-reference to a similar class of nodes. For example, \"knows\" or \"see also\"\n",
      "\n",
      "    The resulting schema should be a connected graph, with no isolated components.\n",
      "\n",
      "\n",
      "    Prepare for the task:\n",
      "    - get the user goal using the 'get_approved_user_goal' tool\n",
      "    - get the list of approved files using the 'get_approved_files' tool\n",
      "    - get the current construction plan using the 'get_proposed_construction_plan' tool\n",
      "\n",
      "    Think carefully, using tools to perform actions and reconsidering your actions when a tool returns an error:\n",
      "    1. For each approved file, consider whether it represents a node or relationship. Check the content for potential unique identifiers using the 'sample_file' tool.\n",
      "    2. For each identifier, verify that it is unique by using the 'search_file' tool.\n",
      "    3. Use the node vs relationship guidance for deciding whether the file represents a node or a relationship.\n",
      "    4. For a node file, propose a node construction using the 'propose_node_construction' tool. \n",
      "    5. If the node contains a reference relationship, use the 'propose_relationship_construction' tool to propose a relationship construction. \n",
      "    6. For a relationship file, propose a relationship construction using the 'propose_relationship_construction' tool\n",
      "    7. If you need to remove a construction, use the 'remove_node_construction' or 'remove_relationship_construction' tool\n",
      "    8. When you are done with construction proposals, use the 'get_proposed_construction_plan' tool to present the plan to the user\n",
      "\n",
      "\n"
     ]
    }
   ],
   "source": [
    "# finally, combine all the prompt parts together\n",
    "proposal_agent_instruction = f\"\"\"\n",
    "{proposal_agent_role_and_goal}\n",
    "{proposal_agent_hints}\n",
    "{proposal_agent_chain_of_thought_directions}\n",
    "\"\"\"\n",
    "\n",
    "print(proposal_agent_instruction)\n"
   ]
  },
  {
   "cell_type": "code",
   "execution_count": null,
   "id": "24889537",
   "metadata": {},
   "outputs": [],
   "source": [
    "\n",
    "# search_file.  - DOne\n",
    "# get_approved_user_goal.  - DOne \n",
    "# get_approved_files-- Done\n",
    "# get_proposed_construction_plan  Done\n",
    "# propose_node_construction.  Done\n",
    "# propose_relationship_construction Done\n",
    "# remove_relationship_construction.  Done \n",
    "# remove_node_construction.  Done"
   ]
  },
  {
   "cell_type": "markdown",
   "id": "fe9f95ab",
   "metadata": {},
   "source": [
    "### Tool Definitions for Schema Proposal"
   ]
  },
  {
   "cell_type": "code",
   "execution_count": 9,
   "id": "90f5f5f6",
   "metadata": {},
   "outputs": [],
   "source": [
    "from tools import get_approved_user_goal,get_approved_files, sample_file\n",
    "from neo4j_for_adk import tool_success, tool_error"
   ]
  },
  {
   "cell_type": "code",
   "execution_count": null,
   "id": "618e8374",
   "metadata": {},
   "outputs": [],
   "source": [
    "from helper import get_neo4j_import_dir\n",
    "\n",
    "SEARCH_RESULTS = \"search_results\"\n",
    "\n",
    "# A simple grep-like tool for searching text files\n",
    "def search_file(file_path: str, query: str) -> dict:\n",
    "\n",
    "    \"\"\"\n",
    "    Searches any text file (markdown, csv, txt) for lines containing the given query string.\n",
    "    Simple grep-like functionality that works with any text file.\n",
    "    Search is always case insensitive.\n",
    "\n",
    "    Args:\n",
    "      file_path: Path to the file, relative to the Neo4j import directory.\n",
    "      query: The string to search for.\n",
    "\n",
    "    Returns:\n",
    "        dict: A dictionary with 'status' ('success' or 'error').\n",
    "              If 'success', includes 'search_results' containing 'matching_lines'\n",
    "              (a list of dictionaries with 'line_number' and 'content' keys)\n",
    "              and basic metadata about the search.\n",
    "              If 'error', includes an 'error_message'.\n",
    "    \"\"\"\n",
    "    import_dir = Path(get_neo4j_import_dir())\n",
    "    p = import_dir / file_path\n",
    "    if not p.exists():\n",
    "        return tool_error(f\"File does not exist: {file_path}\")\n",
    "\n",
    "    if not p.is_file():\n",
    "        return tool_error(f\"Path is not a file: {file_path}\")\n",
    "    \n",
    "    # Handle empty query - return no results\n",
    "    if not query:\n",
    "        return tool_success(SEARCH_RESULTS, {\n",
    "            \"metadata\": {\n",
    "                \"path\": file_path,\n",
    "                \"query\": query,\n",
    "                \"lines_found\": 0\n",
    "            },\n",
    "            \"matching_lines\": []\n",
    "        })\n",
    "\n",
    "    matching_lines = []\n",
    "    search_query = query.lower()\n",
    "\n",
    "    try:\n",
    "        with open(p, 'r', encoding='utf-8') as file:\n",
    "            # Process the file line by line\n",
    "            for i, line in enumerate(file, 1):\n",
    "                line_to_check = line.lower()\n",
    "                if search_query in line_to_check:\n",
    "                    matching_lines.append({\n",
    "                        \"line_number\": i,\n",
    "                        \"content\": line.strip()  # Remove trailing newlines\n",
    "                    })\n",
    "    except Exception as e:\n",
    "        return tool_error(f\"Error reading or searching file {file_path}: {e}\")\n",
    "\n",
    "    # Prepare basic metadata\n",
    "    metadata = {\n",
    "        \"path\": file_path,\n",
    "        \"query\": query,\n",
    "        \"lines_found\": len(matching_lines)\n",
    "    }\n",
    "\n",
    "    result_data = {\n",
    "        \"metadata\": metadata,\n",
    "        \"matching_lines\":matching_lines\n",
    "    }\n",
    "\n",
    "    return tool_success(SEARCH_RESULTS, result_data)\n",
    "\n",
    "\n",
    "\n",
    "\n"
   ]
  },
  {
   "cell_type": "code",
   "execution_count": 14,
   "id": "f1be7c3b",
   "metadata": {},
   "outputs": [],
   "source": [
    "#  Tool: Propose Node Construction\n",
    "\n",
    "PROPOSED_CONSTRUCTION_PLAN = \"proposed_construction_plan\"\n",
    "NODE_CONSTRUCTION = \"node_construction\"\n",
    "\n",
    "def propose_node_construction(approved_file: str, proposed_label: str, unique_column_name: str, proposed_properties: list[str], tool_context:ToolContext) -> dict:\n",
    "    \"\"\"Propose a node construction for an approved file that supports the user goal.\n",
    "\n",
    "    The construction will be added to the proposed construction plan dictionary under using proposed_label as the key.\n",
    "\n",
    "    The construction entry will be a dictionary with the following keys:\n",
    "    - construction_type: \"node\"\n",
    "    - source_file: the approved file to propose a node construction for\n",
    "    - label: the proposed label of the node\n",
    "    - unique_column_name: the name of the column that will be used to uniquely identify constructed nodes\n",
    "    - properties: A list of property names for the node, derived from column names in the approved file\n",
    "\n",
    "    Args:\n",
    "        approved_file: The approved file to propose a node construction for\n",
    "        proposed_label: The proposed label for constructed nodes (used as key in the construction plan)\n",
    "        unique_column_name: The name of the column that will be used to uniquely identify constructed nodes\n",
    "        proposed_properties: column names that should be imported as node properties\n",
    "\n",
    "    Returns:\n",
    "        dict: A dictionary containing metadata about the content.\n",
    "                Includes a 'status' key ('success' or 'error').\n",
    "                If 'success', includes a \"node_construction\" key with the construction plan for the node\n",
    "                If 'error', includes an 'error_message' key.\n",
    "                The 'error_message' may have instructions about how to handle the error.\n",
    "    \"\"\"\n",
    "\n",
    "     # quick sanity check -- does the approved file have the unique column?\n",
    "    search_results = search_file(approved_file, unique_column_name)\n",
    "    if search_results[\"status\"] == \"error\":\n",
    "        return search_results # return the error\n",
    "    if search_results[\"search_results\"][\"metadata\"][\"lines_found\"] == 0:\n",
    "        return tool_error(f\"{approved_file} does not have the column {unique_column_name}. Check the file content and try again.\")\n",
    "\n",
    "    # get the current construction plan, or an empty one if none exists\n",
    "    construction_plan = tool_context.state.get(PROPOSED_CONSTRUCTION_PLAN, {})\n",
    "    node_construction_rule = {\n",
    "        \"construction_type\": \"node\",\n",
    "        \"source_file\": approved_file,\n",
    "        \"label\": proposed_label,\n",
    "        \"unique_column_name\": unique_column_name,\n",
    "        \"properties\": proposed_properties\n",
    "    }\n",
    "\n",
    "    construction_plan[proposed_label] = node_construction_rule\n",
    "    tool_context.state[PROPOSED_CONSTRUCTION_PLAN] = construction_plan\n",
    "    return tool_success(NODE_CONSTRUCTION, node_construction_rule)\n",
    "\n",
    "\n"
   ]
  },
  {
   "cell_type": "code",
   "execution_count": 15,
   "id": "7e72b9c0",
   "metadata": {},
   "outputs": [],
   "source": [
    "RELATIONSHIP_CONSTRUCTION = \"relationship_construction\"\n",
    "\n",
    "def propose_relationship_construction(approved_file: str, proposed_relationship_type: str, \n",
    "    from_node_label: str,from_node_column: str, to_node_label:str, to_node_column: str, \n",
    "    proposed_properties: list[str], \n",
    "    tool_context:ToolContext) -> dict:\n",
    "    \"\"\"Propose a relationship construction for an approved file that supports the user goal.\n",
    "\n",
    "    The construction will be added to the proposed construction plan dictionary under using proposed_relationship_type as the key.\n",
    "\n",
    "    Args:\n",
    "        approved_file: The approved file to propose a node construction for\n",
    "        proposed_relationship_type: The proposed label for constructed relationships\n",
    "        from_node_label: The label of the source node\n",
    "        from_node_column: The name of the column within the approved file that will be used to uniquely identify source nodes\n",
    "        to_node_label: The label of the target node\n",
    "        to_node_column: The name of the column within the approved file that will be used to uniquely identify target nodes\n",
    "        unique_column_name: The name of the column that will be used to uniquely identify target nodes\n",
    "\n",
    "    Returns:\n",
    "        dict: A dictionary containing metadata about the content.\n",
    "                Includes a 'status' key ('success' or 'error').\n",
    "                If 'success', includes a \"relationship_construction\" key with the construction plan for the node\n",
    "                If 'error', includes an 'error_message' key.\n",
    "                The 'error_message' may have instructions about how to handle the error.\n",
    "    \"\"\"\n",
    "    # quick sanity check -- does the approved file have the from_node_column?\n",
    "    search_results = search_file(approved_file, from_node_column)\n",
    "    if search_results[\"status\"] == \"error\": \n",
    "        return search_results  # return the error if there is one\n",
    "    if search_results[\"search_results\"][\"metadata\"][\"lines_found\"] == 0:\n",
    "        return tool_error(f\"{approved_file} does not have the from node column {from_node_column}. Check the content of the file and reconsider the relationship.\")\n",
    "\n",
    "    # quick sanity check -- does the approved file have the to_node_column?\n",
    "    search_results = search_file(approved_file, to_node_column)\n",
    "    if search_results[\"status\"] == \"error\" or search_results[\"search_results\"][\"metadata\"][\"lines_found\"] == 0:\n",
    "        return tool_error(f\"{approved_file} does not have the to node column {to_node_column}. Check the content of the file and reconsider the relationship.\")\n",
    "\n",
    "    construction_plan = tool_context.state.get(PROPOSED_CONSTRUCTION_PLAN, {})\n",
    "    relationship_construction_rule = {\n",
    "        \"construction_type\": \"relationship\",\n",
    "        \"source_file\": approved_file,\n",
    "        \"relationship_type\": proposed_relationship_type,\n",
    "        \"from_node_label\": from_node_label,\n",
    "        \"from_node_column\": from_node_column,\n",
    "        \"to_node_label\": to_node_label,\n",
    "        \"to_node_column\": to_node_column,\n",
    "        \"properties\": proposed_properties\n",
    "    }   \n",
    "    construction_plan[proposed_relationship_type] = relationship_construction_rule\n",
    "    tool_context.state[PROPOSED_CONSTRUCTION_PLAN] = construction_plan\n",
    "    return tool_success(RELATIONSHIP_CONSTRUCTION, relationship_construction_rule)"
   ]
  },
  {
   "cell_type": "code",
   "execution_count": 16,
   "id": "130bd211",
   "metadata": {},
   "outputs": [],
   "source": [
    "# Tool: Remove Node Construction\n",
    "def remove_node_construction(node_label: str, tool_context:ToolContext) -> dict:\n",
    "    \"\"\"Remove a node construction from the proposed construction plan based on label.\n",
    "\n",
    "    Args:\n",
    "        node_label: The label of the node construction to remove\n",
    "        tool_context: The tool context\n",
    "\n",
    "    Returns:\n",
    "        dict: A dictionary containing metadata about the content.\n",
    "                Includes a 'status' key ('success' or 'error').\n",
    "                If 'success', includes a 'node_construction_removed' key with the label of the removed node construction\n",
    "                If 'error', includes an 'error_message' key.\n",
    "                The 'error_message' may have instructions about how to handle the error.\n",
    "    \"\"\"\n",
    "    construction_plan = tool_context.state.get(PROPOSED_CONSTRUCTION_PLAN, {})\n",
    "    if node_label not in construction_plan:\n",
    "        return tool_success(\"node construction rule not found. removal not needed.\")\n",
    "\n",
    "    del construction_plan[node_label]\n",
    "\n",
    "    tool_context.state[PROPOSED_CONSTRUCTION_PLAN] = construction_plan\n",
    "    return tool_success(\"node_construction_removed\", node_label)"
   ]
  },
  {
   "cell_type": "code",
   "execution_count": 17,
   "id": "f5487270",
   "metadata": {},
   "outputs": [],
   "source": [
    "# Tool: Remove Relationship Construction\n",
    "def remove_relationship_construction(relationship_type: str, tool_context:ToolContext) -> dict:\n",
    "    \"\"\"Remove a relationship construction from the proposed construction plan based on type.\n",
    "\n",
    "    Args:\n",
    "        relationship_type: The type of the relationship construction to remove\n",
    "        tool_context: The tool context\n",
    "\n",
    "    Returns:\n",
    "        dict: A dictionary containing metadata about the content.\n",
    "                Includes a 'status' key ('success' or 'error').\n",
    "                If 'success', includes a 'relationship_construction_removed' key with the type of the removed relationship construction\n",
    "                If 'error', includes an 'error_message' key.\n",
    "                The 'error_message' may have instructions about how to handle the error.\n",
    "    \"\"\"\n",
    "    construction_plan = tool_context.state.get(PROPOSED_CONSTRUCTION_PLAN, {})\n",
    "\n",
    "    if relationship_type not in construction_plan:\n",
    "        return tool_success(\"relationship construction rule not found. removal not needed.\")\n",
    "    \n",
    "    construction_plan.pop(relationship_type)\n",
    "    \n",
    "    tool_context.state[PROPOSED_CONSTRUCTION_PLAN] = construction_plan\n",
    "    return tool_success(\"relationship_construction_removed\", relationship_type) "
   ]
  },
  {
   "cell_type": "code",
   "execution_count": 19,
   "id": "3b5cb35b",
   "metadata": {},
   "outputs": [],
   "source": [
    "# Tool: Get Proposed construction Plan\n",
    "\n",
    "def get_proposed_construction_plan(tool_context:ToolContext) -> dict:\n",
    "    \"\"\"Get the proposed construction plan, a dictionary of construction rules.\"\"\"\n",
    "    return tool_context.state.get(PROPOSED_CONSTRUCTION_PLAN, {})"
   ]
  },
  {
   "cell_type": "code",
   "execution_count": 21,
   "id": "b4483038",
   "metadata": {},
   "outputs": [],
   "source": [
    "\n",
    "# search_file.  - DOne\n",
    "# get_approved_user_goal.  - DOne \n",
    "# get_approved_files-- Done\n",
    "# get_proposed_construction_plan  Done\n",
    "# propose_node_construction.  Done\n",
    "# propose_relationship_construction Done\n",
    "# remove_relationship_construction.  Done \n",
    "# remove_node_construction.  Done\n",
    "# approved_construction_plan. Done"
   ]
  },
  {
   "cell_type": "code",
   "execution_count": 22,
   "id": "e5a67bbd",
   "metadata": {},
   "outputs": [],
   "source": [
    "# Tool: Approve the proposed construction plan\n",
    "\n",
    "APPROVED_CONSTRUCTION_PLAN = \"approved_construction_plan\"\n",
    "\n",
    "def approve_proposed_construction_plan(tool_context:ToolContext) -> dict:\n",
    "    \"\"\"Approve the proposed construction plan, if there is one.\"\"\"\n",
    "    if not PROPOSED_CONSTRUCTION_PLAN in tool_context.state:\n",
    "        return tool_error(\"No proposed construction plan found. Propose a plan first.\")\n",
    "    \n",
    "    tool_context.state[APPROVED_CONSTRUCTION_PLAN] = tool_context.state.get(PROPOSED_CONSTRUCTION_PLAN)\n",
    "    return tool_success(APPROVED_CONSTRUCTION_PLAN, tool_context.state[APPROVED_CONSTRUCTION_PLAN])\n",
    "    "
   ]
  },
  {
   "cell_type": "code",
   "execution_count": 23,
   "id": "078d5006",
   "metadata": {},
   "outputs": [],
   "source": [
    "# List of tools for the structured schema proposal agent\n",
    "structured_schema_proposal_agent_tools = [\n",
    "    get_approved_user_goal, get_approved_files, \n",
    "    get_proposed_construction_plan,\n",
    "    sample_file, search_file,\n",
    "    propose_node_construction, propose_relationship_construction, \n",
    "    remove_node_construction, remove_relationship_construction\n",
    "]"
   ]
  },
  {
   "cell_type": "markdown",
   "id": "3d0ba330",
   "metadata": {},
   "source": [
    "### Define the Agent for Schema Proposal"
   ]
  },
  {
   "cell_type": "code",
   "execution_count": 24,
   "id": "a9e56765",
   "metadata": {},
   "outputs": [],
   "source": [
    "from google.adk.agents.callback_context import CallbackContext\n",
    "\n",
    "# a helper function to log the agent name during execution\n",
    "def log_agent(callback_context: CallbackContext) -> None:\n",
    "    print(f\"\\n### Entering Agent: {callback_context.agent_name}\")"
   ]
  },
  {
   "cell_type": "code",
   "execution_count": 25,
   "id": "5892f77c",
   "metadata": {},
   "outputs": [],
   "source": [
    "SCHEMA_AGENT_NAME = \"schema_proposal_agent_v1\"\n",
    "schema_proposal_agent = LlmAgent(\n",
    "    name=SCHEMA_AGENT_NAME,\n",
    "    description=\"Proposes a knowledge graph schema based on the user goal and approved file list\",\n",
    "    model=llm,\n",
    "    instruction=proposal_agent_instruction,\n",
    "    tools=structured_schema_proposal_agent_tools,\n",
    "    before_agent_callback=log_agent\n",
    ")\n"
   ]
  },
  {
   "cell_type": "code",
   "execution_count": 26,
   "id": "2aa66d1f",
   "metadata": {},
   "outputs": [],
   "source": [
    "from helper import make_agent_caller\n",
    "\n",
    "# notice the initial state being passed in here to simulate previous workflow steps\n",
    "schema_proposal_caller = await make_agent_caller(schema_proposal_agent, {\n",
    "    \"feedback\": \"\",\n",
    "    \"approved_user_goal\": {\n",
    "        \"kind_of_graph\": \"supply chain analysis\",\n",
    "        \"description\": \"A multi-level bill of materials for manufactured products, useful for root cause analysis..\"\n",
    "    },\n",
    "    \"approved_files\": [\n",
    "        'assemblies.csv', \n",
    "        'parts.csv', \n",
    "        'part_supplier_mapping.csv', \n",
    "        'products.csv', \n",
    "        'suppliers.csv'\n",
    "    ]\n",
    "})\n",
    "\n"
   ]
  },
  {
   "cell_type": "markdown",
   "id": "50b3f09c",
   "metadata": {},
   "source": [
    "### Try the Agent for Schema Proposal"
   ]
  },
  {
   "cell_type": "code",
   "execution_count": 27,
   "id": "0036b1bb",
   "metadata": {},
   "outputs": [],
   "source": [
    "from neo4j_for_adk import graphdb"
   ]
  },
  {
   "cell_type": "code",
   "execution_count": 39,
   "id": "d073ed1a",
   "metadata": {},
   "outputs": [
    {
     "name": "stdout",
     "output_type": "stream",
     "text": [
      "\n",
      ">>> User Query: How can these files be imported to construct the knowledge graph?\n",
      "\n",
      "### Entering Agent: schema_proposal_agent_v1\n",
      "<<< Agent Response: To construct the knowledge graph for supply chain analysis, use the proposed schema based on the provided files. Here's a step-by-step guide on how each file should be imported:\n",
      "\n",
      "### Nodes Construction\n",
      "\n",
      "1. **Assembly Node** (from `assemblies.csv`)\n",
      "   - **Unique Identifier**: `assembly_id`\n",
      "   - **Properties**: `assembly_name`, `description`, `weight_kg`, `dimensions`, `created_date`, `status`\n",
      "   - **Action**: Import as nodes with the label \"Assembly\".\n",
      "\n",
      "2. **Part Node** (from `parts.csv`)\n",
      "   - **Unique Identifier**: `part_id`\n",
      "   - **Properties**: `part_name`, `part_number`, `category`, `material`, `weight_g`, `cost_usd`, `stock_quantity`, `reorder_point`, `created_date`\n",
      "   - **Action**: Import as nodes with the label \"Part\".\n",
      "\n",
      "3. **Supplier Node** (from `suppliers.csv`)\n",
      "   - **Unique Identifier**: `supplier_id`\n",
      "   - **Properties**: `supplier_name`, `contact_person`, `email`, `phone`, `address`, `city`, `state`, `country`, `postal_code`, `rating`, `certification`, `payment_terms`, `created_date`\n",
      "   - **Action**: Import as nodes with the label \"Supplier\".\n",
      "\n",
      "### Relationships Construction\n",
      "\n",
      "1. **SUPPLIES Relationship** (from `part_supplier_mapping.csv`)\n",
      "   - **From Node**: Part (using `part_id`)\n",
      "   - **To Node**: Supplier (using `supplier_id`)\n",
      "   - **Properties**: `supplier_part_number`, `unit_cost_usd`, `lead_time_days`, `minimum_order_qty`, `preferred_supplier`, `contract_start`, `contract_end`, `quality_rating`, `delivery_rating`\n",
      "   - **Action**: Import as edges with the relationship type \"SUPPLIES\" between nodes labeled \"Part\" and \"Supplier\".\n",
      "\n",
      "This structured plan will build a connected graph with product assemblies, parts, and supplier relationships to enable multi-level supply chain analysis. If additional files become available, such as `products.csv`, they can be incorporated in a similar structured manner.\n",
      "\n",
      "---\n",
      "\n",
      "Session state:  {'feedback': '', 'approved_user_goal': {'kind_of_graph': 'supply chain analysis', 'description': 'A multi-level bill of materials for manufactured products, useful for root cause analysis..'}, 'approved_files': ['assemblies.csv', 'parts.csv', 'part_supplier_mapping.csv', 'products.csv', 'suppliers.csv'], 'proposed_construction_plan': {'Assembly': {'construction_type': 'node', 'source_file': 'assemblies.csv', 'label': 'Assembly', 'unique_column_name': 'assembly_id', 'properties': ['assembly_name', 'description', 'weight_kg', 'dimensions', 'created_date', 'status']}, 'Part': {'construction_type': 'node', 'source_file': 'parts.csv', 'label': 'Part', 'unique_column_name': 'part_id', 'properties': ['part_name', 'part_number', 'category', 'material', 'weight_g', 'cost_usd', 'stock_quantity', 'reorder_point', 'created_date']}, 'Supplier': {'construction_type': 'node', 'source_file': 'suppliers.csv', 'label': 'Supplier', 'unique_column_name': 'supplier_id', 'properties': ['supplier_name', 'contact_person', 'email', 'phone', 'address', 'city', 'state', 'country', 'postal_code', 'rating', 'certification', 'payment_terms', 'created_date']}, 'SUPPLIES': {'construction_type': 'relationship', 'source_file': 'part_supplier_mapping.csv', 'relationship_type': 'SUPPLIES', 'from_node_label': 'Part', 'from_node_column': 'part_id', 'to_node_label': 'Supplier', 'to_node_column': 'supplier_id', 'properties': ['supplier_part_number', 'unit_cost_usd', 'lead_time_days', 'minimum_order_qty', 'preferred_supplier', 'contract_start', 'contract_end', 'quality_rating', 'delivery_rating']}}}\n",
      "Proposed construction plan:  {'Assembly': {'construction_type': 'node', 'source_file': 'assemblies.csv', 'label': 'Assembly', 'unique_column_name': 'assembly_id', 'properties': ['assembly_name', 'description', 'weight_kg', 'dimensions', 'created_date', 'status']}, 'Part': {'construction_type': 'node', 'source_file': 'parts.csv', 'label': 'Part', 'unique_column_name': 'part_id', 'properties': ['part_name', 'part_number', 'category', 'material', 'weight_g', 'cost_usd', 'stock_quantity', 'reorder_point', 'created_date']}, 'Supplier': {'construction_type': 'node', 'source_file': 'suppliers.csv', 'label': 'Supplier', 'unique_column_name': 'supplier_id', 'properties': ['supplier_name', 'contact_person', 'email', 'phone', 'address', 'city', 'state', 'country', 'postal_code', 'rating', 'certification', 'payment_terms', 'created_date']}, 'SUPPLIES': {'construction_type': 'relationship', 'source_file': 'part_supplier_mapping.csv', 'relationship_type': 'SUPPLIES', 'from_node_label': 'Part', 'from_node_column': 'part_id', 'to_node_label': 'Supplier', 'to_node_column': 'supplier_id', 'properties': ['supplier_part_number', 'unit_cost_usd', 'lead_time_days', 'minimum_order_qty', 'preferred_supplier', 'contract_start', 'contract_end', 'quality_rating', 'delivery_rating']}}\n"
     ]
    }
   ],
   "source": [
    "await schema_proposal_caller.call(\"How can these files be imported to construct the knowledge graph?\")\n",
    "\n",
    "session_end = await schema_proposal_caller.get_session()\n",
    "\n",
    "print(\"\\n---\\n\")\n",
    "\n",
    "print(\"Session state: \", session_end.state)\n",
    "\n",
    "if \"proposed_construction_plan\" in session_end.state:\n",
    "    print(\"Proposed construction plan: \", session_end.state['proposed_construction_plan'])\n",
    "\n"
   ]
  },
  {
   "cell_type": "markdown",
   "id": "8e2ae9d2",
   "metadata": {},
   "source": [
    "### Agent Instructions for Schema Critic"
   ]
  },
  {
   "cell_type": "code",
   "execution_count": 40,
   "id": "2d9a45f8",
   "metadata": {},
   "outputs": [],
   "source": [
    "critic_agent_role_and_goal = \"\"\"\n",
    "    You are an expert at knowledge graph modeling with property graphs. \n",
    "    Criticize the proposed schema for relevance to the user goal and approved files.\n",
    "\"\"\""
   ]
  },
  {
   "cell_type": "code",
   "execution_count": 42,
   "id": "23316cda",
   "metadata": {},
   "outputs": [],
   "source": [
    "critic_agent_hints = \"\"\"\n",
    "    Criticize the proposed schema for relevance and correctness:\n",
    "    - Are unique identifiers actually unique? Use the 'search_file' tool to validate. Composite identifier are not acceptable.\n",
    "    - Could any nodes be relationships instead? Double-check that unique identifiers are unique and not references to other nodes. Use the 'search_file' tool to validate\n",
    "    - Can you manually trace through\" the source data to find the necessary information for anwering a hypothetical question?\n",
    "    - Is every node in the schema connected? What relationships could be missing? Every node should connect to at least one other node.\n",
    "    - Are hierarchical container relationships missing? \n",
    "    - Are any relationships redundant? A relationship between two nodes is redundant if it is semantically equivalent to or the inverse of another relationship between those two nodes.\n",
    "\"\"\""
   ]
  },
  {
   "cell_type": "code",
   "execution_count": 43,
   "id": "beef6277",
   "metadata": {},
   "outputs": [],
   "source": [
    "critic_agent_chain_of_thought_directions = \"\"\"\n",
    "    Prepare for the task:\n",
    "    - get the user goal using the 'get_approved_user_goal' tool\n",
    "    - get the list of approved files using the 'get_approved_files' tool\n",
    "    - get the construction plan using the 'get_proposed_construction_plan' tool\n",
    "    - use the 'sample_file' and 'search_file' tools to validate the schema design\n",
    "\n",
    "    Think carefully, using tools to perform actions and reconsidering your actions when a tool returns an error:\n",
    "    1. Analyze each construction rule in the proposed construction plan.\n",
    "    2. Use tools to validate the construction rules for relevance and correctness.\n",
    "    3. If the schema looks good, respond with a one word reply: 'valid'.\n",
    "    4. If the schema has problems, respond with 'retry' and provide feedback as a concise bullet list of problems.\n",
    "\"\"\""
   ]
  },
  {
   "cell_type": "code",
   "execution_count": 44,
   "id": "dd08db77",
   "metadata": {},
   "outputs": [
    {
     "name": "stdout",
     "output_type": "stream",
     "text": [
      "\n",
      "\n",
      "    You are an expert at knowledge graph modeling with property graphs. \n",
      "    Criticize the proposed schema for relevance to the user goal and approved files.\n",
      "\n",
      "\n",
      "    Criticize the proposed schema for relevance and correctness:\n",
      "    - Are unique identifiers actually unique? Use the 'search_file' tool to validate. Composite identifier are not acceptable.\n",
      "    - Could any nodes be relationships instead? Double-check that unique identifiers are unique and not references to other nodes. Use the 'search_file' tool to validate\n",
      "    - Can you manually trace through\" the source data to find the necessary information for anwering a hypothetical question?\n",
      "    - Is every node in the schema connected? What relationships could be missing? Every node should connect to at least one other node.\n",
      "    - Are hierarchical container relationships missing? \n",
      "    - Are any relationships redundant? A relationship between two nodes is redundant if it is semantically equivalent to or the inverse of another relationship between those two nodes.\n",
      "\n",
      "\n",
      "    Prepare for the task:\n",
      "    - get the user goal using the 'get_approved_user_goal' tool\n",
      "    - get the list of approved files using the 'get_approved_files' tool\n",
      "    - get the construction plan using the 'get_proposed_construction_plan' tool\n",
      "    - use the 'sample_file' and 'search_file' tools to validate the schema design\n",
      "\n",
      "    Think carefully, using tools to perform actions and reconsidering your actions when a tool returns an error:\n",
      "    1. Analyze each construction rule in the proposed construction plan.\n",
      "    2. Use tools to validate the construction rules for relevance and correctness.\n",
      "    3. If the schema looks good, respond with a one word reply: 'valid'.\n",
      "    4. If the schema has problems, respond with 'retry' and provide feedback as a concise bullet list of problems.\n",
      "\n",
      "\n"
     ]
    }
   ],
   "source": [
    "# combine all the prompt parts together\n",
    "critic_agent_instruction = f\"\"\"\n",
    "{critic_agent_role_and_goal}\n",
    "{critic_agent_hints}\n",
    "{critic_agent_chain_of_thought_directions}\n",
    "\"\"\"\n",
    "\n",
    "print(critic_agent_instruction)\n"
   ]
  },
  {
   "cell_type": "markdown",
   "id": "19dd4714",
   "metadata": {},
   "source": [
    "Tool Definitions for Schema Critic\n"
   ]
  },
  {
   "cell_type": "code",
   "execution_count": 35,
   "id": "de6c0434",
   "metadata": {},
   "outputs": [],
   "source": [
    "schema_critic_agent_tools = [\n",
    "    get_approved_user_goal, get_approved_files,\n",
    "    get_proposed_construction_plan,\n",
    "    sample_file, search_file\n",
    "]"
   ]
  },
  {
   "cell_type": "markdown",
   "id": "a2228476",
   "metadata": {},
   "source": [
    "### Define the Agent for Schema Critic"
   ]
  },
  {
   "cell_type": "code",
   "execution_count": 45,
   "id": "667de652",
   "metadata": {},
   "outputs": [],
   "source": [
    "CRITIC_NAME = \"schema_critic_agent_v1\"\n",
    "schema_critic_agent = LlmAgent(\n",
    "    name=CRITIC_NAME,\n",
    "    description=\"Criticizes the proposed schema for relevance to the user goal and approved files.\",\n",
    "    model=llm,\n",
    "    instruction=critic_agent_instruction,\n",
    "    tools=schema_critic_agent_tools, \n",
    "    output_key=\"feedback\", # specify the context state key which will contain the result of calling the critic,\n",
    "    before_agent_callback=log_agent\n",
    ")\n"
   ]
  },
  {
   "cell_type": "markdown",
   "id": "4523200c",
   "metadata": {},
   "source": [
    "### Define the refinement loop"
   ]
  },
  {
   "cell_type": "markdown",
   "id": "e184d0b4",
   "metadata": {},
   "source": [
    "### CheckStatusAndEscalate agent"
   ]
  },
  {
   "cell_type": "code",
   "execution_count": 50,
   "id": "80a85853",
   "metadata": {},
   "outputs": [
    {
     "data": {
      "text/plain": [
       "'valid'"
      ]
     },
     "execution_count": 50,
     "metadata": {},
     "output_type": "execute_result"
    }
   ],
   "source": [
    "d = {\"a\": 1, \"b\":2}\n",
    "\n",
    "d.get(\"c\", \"valid\")\n"
   ]
  },
  {
   "cell_type": "code",
   "execution_count": 53,
   "id": "894974b6",
   "metadata": {},
   "outputs": [],
   "source": [
    "### Generator Function\n",
    "\n",
    "# 1GB of Data we can't process in a shot\n",
    "# 100 MB * 10\n",
    "\n",
    "def count_up_to(n):\n",
    "    count = 1\n",
    "    while count <=5:\n",
    "        yield count\n",
    "        count +=1\n",
    "    "
   ]
  },
  {
   "cell_type": "code",
   "execution_count": 56,
   "id": "ad79b34c",
   "metadata": {},
   "outputs": [
    {
     "name": "stdout",
     "output_type": "stream",
     "text": [
      "1\n",
      "2\n",
      "3\n",
      "4\n",
      "5\n"
     ]
    }
   ],
   "source": [
    "for number in count_up_to(5):\n",
    "    print(number)"
   ]
  },
  {
   "cell_type": "code",
   "execution_count": null,
   "id": "433c6192",
   "metadata": {},
   "outputs": [],
   "source": []
  },
  {
   "cell_type": "code",
   "execution_count": null,
   "id": "e6f07cd6",
   "metadata": {},
   "outputs": [],
   "source": [
    "from google.adk.agents.invocation_context import InvocationContext\n",
    "from google.adk.agents.base_agent import BaseAgent\n",
    "from google.adk.events import Event, EventActions\n",
    "from typing import AsyncGenerator\n",
    "\n",
    "\n",
    "class CheckStatusAndEscalate(BaseAgent):\n",
    "    async def _run_async_impl(self, ctx: InvocationContext) -> AsyncGenerator[Event, None]:\n",
    "        feedback = ctx.session.state.get(\"feedback\", \"valid\")\n",
    "        should_stop = (feedback == \"valid\")\n",
    "        yield Event(author=self.name, actions=EventActions(escalate=should_stop))\n",
    "\n"
   ]
  },
  {
   "cell_type": "markdown",
   "id": "6324e06c",
   "metadata": {},
   "source": [
    "### Loop Agent"
   ]
  },
  {
   "cell_type": "code",
   "execution_count": 58,
   "id": "be32ff89",
   "metadata": {},
   "outputs": [],
   "source": [
    "schema_refinement_loop = LoopAgent(\n",
    "    name = \"schema_refinement_loop\",\n",
    "    description=\"Analyzes approved files to propose a schema based on user intent and feedback\",\n",
    "    max_iterations=2,\n",
    "    sub_agents=[schema_proposal_agent, schema_critic_agent, CheckStatusAndEscalate(name=\"StopChecker\")],\n",
    "    before_agent_callback=log_agent\n",
    ")"
   ]
  },
  {
   "cell_type": "markdown",
   "id": "4d8bf2cd",
   "metadata": {},
   "source": [
    "### Try the refinement loop"
   ]
  },
  {
   "cell_type": "code",
   "execution_count": 60,
   "id": "8d43e9ad",
   "metadata": {},
   "outputs": [
    {
     "name": "stdout",
     "output_type": "stream",
     "text": [
      "\n",
      ">>> User Query: How can this files be imported?\n",
      "\n",
      "### Entering Agent: schema_refinement_loop\n",
      "\n",
      "### Entering Agent: schema_proposal_agent_v1\n",
      "\n",
      "### Entering Agent: schema_critic_agent_v1\n",
      "\n",
      "### Entering Agent: schema_proposal_agent_v1\n",
      "\n",
      "### Entering Agent: schema_critic_agent_v1\n",
      "<<< Agent Response: Based on the current situation, the proposed schema does not fully support the user goal of a multi-level bill of materials analysis, as it lacks the hierarchical relationship between assemblies and parts. \n",
      "\n",
      "Here's what should be addressed:\n",
      "\n",
      "- **Hierarchy Between Assemblies and Parts:** \n",
      "  - The current dataset does not include information linking assemblies to parts, which is essential for modeling a multi-level bill of materials. \n",
      "  - Additional data or files that map each assembly to its corresponding parts is required. \n",
      "\n",
      "To move forward, I recommend obtaining or approving a data file that explicitly details the relationship between `Assembly` and `Part`, allowing for a more comprehensive supply chain analysis that aligns with the user's goal. \n",
      "\n",
      "Until then, the proposed schema is incomplete, thus the response remains as:\n",
      "\n",
      "- **retry**\n",
      "\n",
      "**Feedback:**\n",
      "- Enhance schema with a relationship mapping between `Assembly` and `Part`.\n",
      "- Acquire or utilize additional data that provides necessary hierarchical information for comprehensive analysis.\n",
      "Session State: : {'feedback': \"Based on the current situation, the proposed schema does not fully support the user goal of a multi-level bill of materials analysis, as it lacks the hierarchical relationship between assemblies and parts. \\n\\nHere's what should be addressed:\\n\\n- **Hierarchy Between Assemblies and Parts:** \\n  - The current dataset does not include information linking assemblies to parts, which is essential for modeling a multi-level bill of materials. \\n  - Additional data or files that map each assembly to its corresponding parts is required. \\n\\nTo move forward, I recommend obtaining or approving a data file that explicitly details the relationship between `Assembly` and `Part`, allowing for a more comprehensive supply chain analysis that aligns with the user's goal. \\n\\nUntil then, the proposed schema is incomplete, thus the response remains as:\\n\\n- **retry**\\n\\n**Feedback:**\\n- Enhance schema with a relationship mapping between `Assembly` and `Part`.\\n- Acquire or utilize additional data that provides necessary hierarchical information for comprehensive analysis.\", 'approved_user_goal': {'kind_of_graph': 'supply chain analysis', 'description': 'A multi-level bill of materials for manufactured products, useful for root cause analysis..'}, 'approved_files': ['products.csv', 'assemblies.csv', 'parts.csv', 'part_supplier_mapping.csv', 'suppliers.csv'], 'proposed_construction_plan': {'Assembly': {'construction_type': 'node', 'source_file': 'assemblies.csv', 'label': 'Assembly', 'unique_column_name': 'assembly_id', 'properties': ['assembly_name', 'description', 'weight_kg', 'dimensions', 'created_date', 'status']}, 'Part': {'construction_type': 'node', 'source_file': 'parts.csv', 'label': 'Part', 'unique_column_name': 'part_id', 'properties': ['part_name', 'part_number', 'category', 'material', 'weight_g', 'cost_usd', 'stock_quantity', 'min_stock', 'reorder_point', 'created_date']}, 'SUPPLIED_BY': {'construction_type': 'relationship', 'source_file': 'part_supplier_mapping.csv', 'relationship_type': 'SUPPLIED_BY', 'from_node_label': 'Part', 'from_node_column': 'part_id', 'to_node_label': 'Supplier', 'to_node_column': 'supplier_id', 'properties': ['supplier_part_number', 'unit_cost_usd', 'lead_time_days', 'minimum_order_qty', 'preferred_supplier', 'contract_start', 'contract_end', 'quality_rating', 'delivery_rating']}, 'Supplier': {'construction_type': 'node', 'source_file': 'suppliers.csv', 'label': 'Supplier', 'unique_column_name': 'supplier_id', 'properties': ['supplier_name', 'contact_person', 'email', 'phone', 'address', 'city', 'state', 'country', 'postal_code', 'rating', 'certification', 'payment_terms', 'created_date']}}}\n"
     ]
    }
   ],
   "source": [
    "from helper import make_agent_caller\n",
    "\n",
    "refinement_loop_caller = await make_agent_caller(schema_refinement_loop,{\n",
    "    \"feedback\": \"\",\n",
    "    \"approved_user_goal\": {\n",
    "        \"kind_of_graph\": \"supply chain analysis\",\n",
    "        \"description\": \"A multi-level bill of materials for manufactured products, useful for root cause analysis..\"\n",
    "    },\n",
    "    \"approved_files\": [\n",
    "        'products.csv', \n",
    "        'assemblies.csv', \n",
    "        'parts.csv', \n",
    "        'part_supplier_mapping.csv', \n",
    "        'suppliers.csv'\n",
    "    ]\n",
    "})\n",
    "\n",
    "await refinement_loop_caller.call(\"How can this files be imported?\")\n",
    "\n",
    "session_end = await refinement_loop_caller.get_session()\n",
    "print(f\"Session State: : {session_end.state}\")"
   ]
  },
  {
   "cell_type": "code",
   "execution_count": null,
   "id": "eecc3631",
   "metadata": {},
   "outputs": [],
   "source": []
  }
 ],
 "metadata": {
  "kernelspec": {
   "display_name": "google_adk",
   "language": "python",
   "name": "python3"
  },
  "language_info": {
   "codemirror_mode": {
    "name": "ipython",
    "version": 3
   },
   "file_extension": ".py",
   "mimetype": "text/x-python",
   "name": "python",
   "nbconvert_exporter": "python",
   "pygments_lexer": "ipython3",
   "version": "3.11.13"
  }
 },
 "nbformat": 4,
 "nbformat_minor": 5
}
